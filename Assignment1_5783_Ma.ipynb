{
  "nbformat": 4,
  "nbformat_minor": 0,
  "metadata": {
    "colab": {
      "provenance": [],
      "collapsed_sections": []
    },
    "kernelspec": {
      "name": "python3",
      "display_name": "Python 3"
    },
    "language_info": {
      "name": "python"
    }
  },
  "cells": [
    {
      "cell_type": "markdown",
      "source": [
        "# Assignment 1 for CS5783\n",
        "Shengfang Ma      09/15/2022 \n",
        "      "
      ],
      "metadata": {
        "id": "UvRSV8MNb9OU"
      }
    },
    {
      "cell_type": "code",
      "source": [
        "from google.colab import drive\n",
        "drive.mount('/content/drive')"
      ],
      "metadata": {
        "colab": {
          "base_uri": "https://localhost:8080/"
        },
        "id": "_a8j5j4Ce-9a",
        "outputId": "9a2f5668-297b-4e30-cb9c-44793fcd4d2b"
      },
      "execution_count": 1,
      "outputs": [
        {
          "output_type": "stream",
          "name": "stdout",
          "text": [
            "Mounted at /content/drive\n"
          ]
        }
      ]
    },
    {
      "cell_type": "code",
      "source": [
        "#mount Google Drive and give mounted Drive paths below\n",
        "from google.colab import drive\n",
        "drive.mount('/content/drive')\n"
      ],
      "metadata": {
        "colab": {
          "base_uri": "https://localhost:8080/"
        },
        "id": "Resv7VzIdS1N",
        "outputId": "06bc0fd7-3694-4f77-8c0c-57d90bc219c9"
      },
      "execution_count": 2,
      "outputs": [
        {
          "output_type": "stream",
          "name": "stdout",
          "text": [
            "Drive already mounted at /content/drive; to attempt to forcibly remount, call drive.mount(\"/content/drive\", force_remount=True).\n"
          ]
        }
      ]
    },
    {
      "cell_type": "code",
      "source": [
        "#define a function to calculate theta parameter from normal equation\n",
        "def thetaEquat(X,y):\n",
        "  X_T = np.transpose(X)\n",
        "  X_inverse = np.linalg.pinv(np.dot(X_T,X))\n",
        "  theta = np.dot(np.dot(X_inverse,X_T),y)\n",
        "\n",
        "  return theta\n"
      ],
      "metadata": {
        "id": "h0i0uDj6i0tU"
      },
      "execution_count": 3,
      "outputs": []
    },
    {
      "cell_type": "code",
      "source": [
        "#define a function to calculate the ordinary least squares error (cost function )\n",
        "def costfunc(y_simu, y_truth):\n",
        "  error = (sum(np.power((y_simu-y_truth),2)))/2\n",
        "  return error"
      ],
      "metadata": {
        "id": "3YgL2DY6l9Z6"
      },
      "execution_count": 4,
      "outputs": []
    },
    {
      "cell_type": "markdown",
      "source": [
        "# Question 1"
      ],
      "metadata": {
        "id": "RCEXyUJLcXTS"
      }
    },
    {
      "cell_type": "markdown",
      "source": [
        "#Report for Problem1\n",
        "\n",
        "From the training data, we can see that the relationship between x_train and y_train is not linear. It looks like a 5-degree polynomial. The relationship should be able to be simulated well with a 5th order basis function. After visualizing the testing data, we can see the relationship between x_test and y_test is not linear either. But unlike the training data, the relationship between test variables is more like a cubic polynomial. The size of the data is not big, so normal equations can be used to calculate the parameters.\n",
        "I first choose linear regression without basis function to simulate a linear relationship between x and y. The cost function of the linear regression without basis function is 1.41, which means it is not a good fit. Aslo prove the relationship between x and y is not linear.\n",
        "Then I choose a 3rd order basis function for the linear regression based on the visualization analysis of the testing data. Two new features: x^2  ,and x^3, calculated from x_train, are added to simulate the hypothesis function. However, the result of a 3rd order basis function turn out a big error. The cost function is 39.48. It's not fit the test data at all. \n",
        "At last I tried a 5th order basis function according to the visualization of the training data.Two more features: x^4  ,and x^5, calculated from x_train, are added to simulate the hypothesis function. The result is a great fit to the test data. The error is almost 0."
      ],
      "metadata": {
        "id": "HqYoj-0xfnDo"
      }
    },
    {
      "cell_type": "code",
      "source": [
        "# training file path\n",
        "x_train_file = '/content/drive/MyDrive/x_train.npy'\n",
        "y_train_file = '/content/drive/MyDrive/y_train.npy'\n",
        "\n",
        "#testing file path\n",
        "x_test_file = '/content/drive/MyDrive/x_test.npy'\n",
        "y_test_file = '/content/drive/MyDrive/y_test.npy'\n"
      ],
      "metadata": {
        "id": "neiK4PZedjDm"
      },
      "execution_count": 5,
      "outputs": []
    },
    {
      "cell_type": "code",
      "execution_count": 6,
      "metadata": {
        "colab": {
          "base_uri": "https://localhost:8080/",
          "height": 545
        },
        "id": "Gcua8em4b1pV",
        "outputId": "0380f633-4760-4e18-8949-24d8b16b6a29"
      },
      "outputs": [
        {
          "output_type": "display_data",
          "data": {
            "text/plain": [
              "<Figure size 432x288 with 1 Axes>"
            ],
            "image/png": "[encoded data removed]"
          },
          "metadata": {
            "needs_background": "light"
          }
        },
        {
          "output_type": "display_data",
          "data": {
            "text/plain": [
              "<Figure size 432x288 with 1 Axes>"
            ],
            "image/png": "[encoded data removed]"
          },
          "metadata": {
            "needs_background": "light"
          }
        }
      ],
      "source": [
        "import numpy as np\n",
        "import matplotlib.pyplot as plt\n",
        "\n",
        "# read the training data\n",
        "x_train = np.load(x_train_file)\n",
        "y_train = np.load(y_train_file)\n",
        "\n",
        "#get the size of training data\n",
        "len_train = len(x_train)\n",
        "\n",
        "# create vector x0 with value 1 for regression\n",
        "x0 = np.ones((len_train, 1))  # add x0 for bias\n",
        "\n",
        "#visualize the training data\n",
        "plt.plot(x_train, y_train,'.')\n",
        "plt.title('Training data')\n",
        "plt.show()\n",
        "\n",
        "# read the test data\n",
        "x_test = np.load(x_test_file)\n",
        "y_test_truth = np.load(y_test_file)\n",
        "#visualize the test data\n",
        "plt.title('Testing data')\n",
        "plt.plot(x_test, y_test_truth,'.')\n",
        "plt.show()\n"
      ]
    },
    {
      "cell_type": "code",
      "source": [
        "#1. Try a linear regression without basis function\n",
        "\n",
        "# concatenate x0 and x_train to make the trainxing X matrix\n",
        "Xtrain = np.concatenate((x_train,x0), axis = 1)\n",
        "\n",
        "# use normal equation to calculate theta  \n",
        "theta = thetaEquat(Xtrain, y_train)\n",
        "\n",
        "# use theta to simulate y from test data\n",
        "Xtest = np.concatenate((x_test,x0), axis = 1)\n",
        "y_test_sim = np.dot(theta,(np.transpose(Xtest)))  #prediction of y\n",
        "\n",
        "#plot truth test_y and simulated test_y\n",
        "plt.plot(x_test, y_test_truth,'.',label ='truth')\n",
        "plt.plot(x_test, y_test_sim,'*',label ='prediction')\n",
        "plt.legend()\n",
        "plt.xlabel('x')\n",
        "plt.ylabel('y')\n",
        "#plt.plot(x_test, (y_test_sim[:,None] -y_test_truth), 'o')\n",
        "plt.show()\n",
        "\n",
        "#calculate prediction error ((ordinary least squares))\n",
        "error = costfunc(y_test_sim[:,None], y_test_truth)\n",
        "print('The average error of linear regression is: ', error/(y_test_truth.shape[0]))"
      ],
      "metadata": {
        "colab": {
          "base_uri": "https://localhost:8080/",
          "height": 297
        },
        "id": "MJaspInHhLgo",
        "outputId": "3db98a7b-c070-4699-981c-4aac8c266d7f"
      },
      "execution_count": 7,
      "outputs": [
        {
          "output_type": "display_data",
          "data": {
            "text/plain": [
              "<Figure size 432x288 with 1 Axes>"
            ],
            "image/png": "[encoded data removed]"
          },
          "metadata": {
            "needs_background": "light"
          }
        },
        {
          "output_type": "stream",
          "name": "stdout",
          "text": [
            "The average error of linear regression is:  [1.40992327]\n"
          ]
        }
      ]
    },
    {
      "cell_type": "code",
      "source": [
        "#Try linear regression with a 3rd order basis function\n",
        "#create x with size of (100, 4) for the features\n",
        "\n",
        "# add the square ot training x\n",
        "x2 = np.power(x_train, 2)\n",
        "# add the cube ot training x\n",
        "x3 = np.power(x_train, 3)  \n",
        "\n",
        "# concatenate x0 and x_train to make the trainxing X matrix\n",
        "Xtrain = np.concatenate((x_train,x2,x3, x0), axis = 1)\n",
        "\n",
        "# use normal equation to calculate theta  \n",
        "theta = thetaEquat(Xtrain, y_train)\n",
        "\n",
        "# use theta to simulate y from test data\n",
        "x2 = np.power(x_test, 2)\n",
        "x3 = np.power(x_test, 3)  \n",
        "Xtest = np.concatenate((x_test,x2,x3,x0), axis = 1)\n",
        "y_test_sim = np.dot(theta,(np.transpose(Xtest)))  #prediction of y\n",
        "\n",
        "#plot truth test_y and simulated test_y\n",
        "plt.plot(x_test, y_test_truth,'.',label ='truth')\n",
        "plt.plot(x_test, y_test_sim,'*',label ='prediction')\n",
        "plt.legend()\n",
        "plt.xlabel('x')\n",
        "plt.ylabel('y')\n",
        "#plt.plot(x_test, (y_test_sim[:,None] -y_test_truth), 'o')\n",
        "plt.show()\n",
        "\n",
        "#calculate prediction error ((ordinary least squares))\n",
        "error = costfunc(y_test_sim[:,None], y_test_truth)\n",
        "print('The error of linear regression is: ', error/(y_test_truth.shape[0]))"
      ],
      "metadata": {
        "colab": {
          "base_uri": "https://localhost:8080/",
          "height": 297
        },
        "id": "5FS1PnpjqhHq",
        "outputId": "4bf78190-aea4-48b1-c3ff-a59afbbf75fc"
      },
      "execution_count": 8,
      "outputs": [
        {
          "output_type": "display_data",
          "data": {
            "text/plain": [
              "<Figure size 432x288 with 1 Axes>"
            ],
            "image/png": "[encoded data removed]"
          },
          "metadata": {
            "needs_background": "light"
          }
        },
        {
          "output_type": "stream",
          "name": "stdout",
          "text": [
            "The error of linear regression is:  [39.4859096]\n"
          ]
        }
      ]
    },
    {
      "cell_type": "code",
      "source": [
        "#Implement linear regression with a 5th order basis function\n",
        "#create x with size of (100, 6) for the features\n",
        "x2 = np.power(x_train, 2)  # add the square of training x\n",
        "x3 = np.power(x_train, 3)  # add the cube of training x  \n",
        "x4 = np.power(x_train, 4)  # add the 4th power of training x\n",
        "x5 = np.power(x_train, 5)  # add the 5th power of training x\n",
        "# concatenate x0 and x_train to make the trainxing X matrix\n",
        "Xtrain = np.concatenate((x_train,x2,x3,x4,x5, x0), axis = 1)\n",
        "\n",
        "# use normal equation to calculate theta  \n",
        "theta = thetaEquat(Xtrain, y_train)\n",
        "\n",
        "# use theta to simulate y from test data\n",
        "x2 = np.power(x_test, 2)  # add the square ot test x\n",
        "x3 = np.power(x_test, 3)  # add the cube ot test x\n",
        "x4 = np.power(x_test, 4)  # add the 4th power ot test x\n",
        "x5 = np.power(x_test, 5)  # add the 5th power ot test x\n",
        "\n",
        "Xtest = np.concatenate((x_test,x2,x3,x4,x5,x0), axis = 1) #concatenate all xs into one matrix\n",
        "y_test_sim = np.dot(theta,(np.transpose(Xtest)))  #prediction of y\n",
        "\n",
        "#plot truth test_y and simulated test_y\n",
        "plt.plot(x_test, y_test_truth,'.',label ='truth')\n",
        "plt.plot(x_test, y_test_sim,'*',label ='prediction')\n",
        "plt.legend()\n",
        "plt.xlabel('x')\n",
        "plt.ylabel('y')\n",
        "#plt.plot(x_test, (y_test_sim[:,None] -y_test_truth), 'o')\n",
        "plt.show()\n",
        "\n",
        "#calculate prediction error ((ordinary least squares))\n",
        "error = costfunc(y_test_sim[:,None], y_test_truth)\n",
        "print('The error of linear regression is: ', error/(y_test_truth.shape[0]))"
      ],
      "metadata": {
        "colab": {
          "base_uri": "https://localhost:8080/",
          "height": 297
        },
        "id": "aYhcXz43ehTu",
        "outputId": "c221a385-e7e1-4f5d-a7d9-b6ae3b42b50b"
      },
      "execution_count": 9,
      "outputs": [
        {
          "output_type": "display_data",
          "data": {
            "text/plain": [
              "<Figure size 432x288 with 1 Axes>"
            ],
            "image/png": "[encoded data removed]"
          },
          "metadata": {
            "needs_background": "light"
          }
        },
        {
          "output_type": "stream",
          "name": "stdout",
          "text": [
            "The error of linear regression is:  [9.39066254e-26]\n"
          ]
        }
      ]
    },
    {
      "cell_type": "markdown",
      "source": [
        "#Question 2"
      ],
      "metadata": {
        "id": "6v3CPmlu0l--"
      }
    },
    {
      "cell_type": "markdown",
      "source": [
        "1. The average least squares error for the given data using my simple linear regression model is 4.658.\n",
        "2. The living area has the most effect on the final price among all the factors. From the printed theta we can see that its absolute weight  is the biggest among all the other variable's weights. I tried to use just this feature to predict the price. The average least squares error is 14.548, which is much higher than use all factors.\n",
        "3. The age of the house has the least effect on the final value. It's absolute weight parameter is the smallest. I used simple linear regression to predict the house price without it. The average least squares error is 4.837. The accuracy is similar with the prediction using all variables. So the age of the house didn't contribute much to the house price prediction."
      ],
      "metadata": {
        "id": "FaDMch593Yr2"
      }
    },
    {
      "cell_type": "code",
      "source": [
        "import pandas as pd"
      ],
      "metadata": {
        "id": "11WoAB9h0ppa"
      },
      "execution_count": 10,
      "outputs": []
    },
    {
      "cell_type": "code",
      "source": [
        "#filepath for the data\n",
        "filepath = '/content/drive/MyDrive/Assignment1_Q2_Data.csv'\n",
        "\n",
        "#readdata\n",
        "df = pd.read_csv(filepath)\n",
        "\n",
        "#get column name\n",
        "df_head = list(df.columns)\n",
        "#data to numpy array\n",
        "data = df.to_numpy()\n",
        "rows,cols = data.shape\n"
      ],
      "metadata": {
        "id": "_qlCa_HOUxqy"
      },
      "execution_count": 11,
      "outputs": []
    },
    {
      "cell_type": "code",
      "source": [
        "#1. using all factors in the data to do the linear regression\n",
        "#remove house ID and Price, the left are variables affect price\n",
        "factors = data[:,1:-1] \n",
        "price = data[:,-1]\n",
        "#y = y[:,None]\n",
        "\n",
        "x_bias = np.ones((rows,1)) # add x0 for bias\n",
        "X_factors = np.concatenate((factors, x_bias), axis = 1)\n",
        "\n",
        "#calculate theta\n",
        "theta = thetaEquat(X_factors, price)\n",
        "print(theta)\n",
        "#the "
      ],
      "metadata": {
        "colab": {
          "base_uri": "https://localhost:8080/"
        },
        "id": "hZ2sy3YZ4oa1",
        "outputId": "ff1b6bc1-de05-4284-c939-8a3149a5a1cd"
      },
      "execution_count": 12,
      "outputs": [
        {
          "output_type": "stream",
          "name": "stdout",
          "text": [
            "[ 0.84203461  9.13727309  0.1805502  13.31511517  1.93053047 -1.07030169\n",
            " -0.30201195 -0.07198748  1.02264378  1.33991086  2.78686263  2.54245911]\n"
          ]
        }
      ]
    },
    {
      "cell_type": "code",
      "source": [
        "#prediction of the price with linear regression\n",
        "price_predict = np.dot(theta,(np.transpose(X_factors)))\n",
        "\n",
        "#plot true price and simulated price\n",
        "index = range(rows)\n",
        "plt.plot(index, price,'.',label ='truth')\n",
        "plt.plot(index, price_predict,'*',label ='prediction')\n",
        "plt.legend()\n",
        "plt.xlabel('index of house')\n",
        "plt.ylabel('price')\n",
        "plt.show()\n",
        "#calculate the  least squares error\n",
        "error = costfunc(price_predict, price)\n",
        "#the average\n",
        "AE = error/rows\n",
        "print('The error of linear regression is: ', AE)"
      ],
      "metadata": {
        "colab": {
          "base_uri": "https://localhost:8080/",
          "height": 297
        },
        "id": "q44ST0xE_xG3",
        "outputId": "67d48580-4e3f-4f6b-9a74-fa2525b23cfc"
      },
      "execution_count": 13,
      "outputs": [
        {
          "output_type": "display_data",
          "data": {
            "text/plain": [
              "<Figure size 432x288 with 1 Axes>"
            ],
            "image/png": "[encoded data removed]"
          },
          "metadata": {
            "needs_background": "light"
          }
        },
        {
          "output_type": "stream",
          "name": "stdout",
          "text": [
            "The error of linear regression is:  4.658405600809067\n"
          ]
        }
      ]
    },
    {
      "cell_type": "code",
      "source": [
        "#2. use the living area to predict house price via linear regression\n",
        "X2 = np.concatenate((factors[:,3:4], x_bias), axis = 1)\n",
        "\n",
        "theta = thetaEquat(X2, price)\n",
        "print(theta)\n",
        "\n",
        "#prediction of the price with linear regression\n",
        "price_predict2 = np.dot(theta,(np.transpose(X2)))\n",
        "\n",
        "#plot true price and simulated price\n",
        "index = range(rows)\n",
        "plt.plot(index, price,'.',label ='truth')\n",
        "plt.plot(index, price_predict2,'*',label ='prediction')\n",
        "plt.legend()\n",
        "plt.xlabel('index of house')\n",
        "plt.ylabel('price')\n",
        "plt.show()\n",
        "#calculate the  least squares error\n",
        "error2 = costfunc(price_predict2, price)\n",
        "#the average\n",
        "AE2 = error2/rows\n",
        "print('The error of linear regression is: ', AE2)"
      ],
      "metadata": {
        "colab": {
          "base_uri": "https://localhost:8080/",
          "height": 315
        },
        "id": "-Ljyfqzw_ZEq",
        "outputId": "cd3f1c2e-296d-4909-d354-5a57f02d4605"
      },
      "execution_count": 14,
      "outputs": [
        {
          "output_type": "stream",
          "name": "stdout",
          "text": [
            "[23.81674573  2.15387869]\n"
          ]
        },
        {
          "output_type": "display_data",
          "data": {
            "text/plain": [
              "<Figure size 432x288 with 1 Axes>"
            ],
            "image/png": "[encoded data removed]"
          },
          "metadata": {
            "needs_background": "light"
          }
        },
        {
          "output_type": "stream",
          "name": "stdout",
          "text": [
            "The error of linear regression is:  14.54832768072574\n"
          ]
        }
      ]
    },
    {
      "cell_type": "code",
      "source": [
        "#3. use all factors except age of the house to do linear regression\n",
        "x_part1 = factors[:,0:7]\n",
        "x_part2 = factors[:,8:]\n",
        "X3 = np.concatenate((x_part1,x_part2, x_bias), axis = 1)\n",
        "\n",
        "#calculate theta\n",
        "theta = thetaEquat(X3, price)\n",
        "\n",
        "#prediction of the price with linear regression\n",
        "price_predict3 = np.dot(theta,(np.transpose(X3)))\n",
        "\n",
        "#plot true price and predicted price\n",
        "index = range(rows)\n",
        "plt.plot(index, price,'.',label ='truth')\n",
        "plt.plot(index, price_predict3,'*',label ='prediction')\n",
        "plt.legend()\n",
        "plt.xlabel('index of house')\n",
        "plt.ylabel('price')\n",
        "plt.show()\n",
        "#calculate the  least squares error\n",
        "error3 = costfunc(price_predict3, price)\n",
        "#the average\n",
        "AE3 = error3/rows\n",
        "print('The error of linear regression is: ', AE3)"
      ],
      "metadata": {
        "colab": {
          "base_uri": "https://localhost:8080/",
          "height": 297
        },
        "id": "Ut7WSAgIVAy3",
        "outputId": "55e9bbd3-e4b2-4e04-fe4c-14ea1b6c0695"
      },
      "execution_count": 15,
      "outputs": [
        {
          "output_type": "display_data",
          "data": {
            "text/plain": [
              "<Figure size 432x288 with 1 Axes>"
            ],
            "image/png": "[encoded data removed]"
          },
          "metadata": {
            "needs_background": "light"
          }
        },
        {
          "output_type": "stream",
          "name": "stdout",
          "text": [
            "The error of linear regression is:  4.837123920413299\n"
          ]
        }
      ]
    },
    {
      "cell_type": "markdown",
      "source": [
        "#Question 3\n"
      ],
      "metadata": {
        "id": "kXl89q2vX28b"
      }
    },
    {
      "cell_type": "markdown",
      "source": [
        "1. No basis function is needed when using the locally weighted approach. The whole trend of the data distribution doesn't affect much on the prediction as the closest training data has more effect. \n",
        "2. The biggest difference is that I don't need to guess what the relationship between x and y. I have to have a good estimation of the relationship and choose proper basis function for question 1. The prediction will be poor without a good guess like my first two trys in question 1. \n",
        "In this question, I don't need to choose the basis function. But I need to set tau at a proper value. Since x and y are non-linear, I should give more weight on local value. Which means I should set tau little. The smaller of tau means the prediction relys more on nearby points. I tested when tau is 0.5, the prediction is not good. When tau is 0.1, the prediction get so much better.\n"
      ],
      "metadata": {
        "id": "dUqSjM6vX2WE"
      }
    },
    {
      "cell_type": "code",
      "source": [
        "#define a function to calculate the weights\n",
        "def weights(X_train, x, tau):\n",
        "  w = np.exp(-((X_train-x)[:,0]**2)/(2*tau**2))\n",
        "  return w"
      ],
      "metadata": {
        "id": "9rfZghNbYaze"
      },
      "execution_count": 16,
      "outputs": []
    },
    {
      "cell_type": "code",
      "source": [
        "#define a function to calculate theta parameter from normal equation\n",
        "def thetaEquatWeights(X,y,W):\n",
        "  X_T = np.transpose(X)\n",
        "  XW = np.dot(X_T,W)\n",
        "  X_inverse = np.linalg.pinv(np.dot(XW,X))\n",
        "  theta = np.dot(np.dot(X_inverse,X_T),W)\n",
        "\n",
        "  return  np.dot(theta,y)"
      ],
      "metadata": {
        "id": "rUNH28FHZ1j3"
      },
      "execution_count": 17,
      "outputs": []
    },
    {
      "cell_type": "code",
      "source": [
        "#1. try tau = 0.5 and see the prediction\n",
        "#set the value of tau\n",
        "tau = 0.5\n",
        "# create vector x0 with value 1 for regression\n",
        "x0 = np.ones((len_train, 1)) \n",
        "# concatenate x0 and x_train to make the trainxing X matrix\n",
        "Xtrain = np.concatenate((x_train, x0), axis = 1)\n",
        "Xtest = np.concatenate((x_test, x0), axis = 1)\n",
        "\n",
        "thetas = np.zeros(x_train.shape[0])\n",
        "ypre = np.zeros(x_train.shape[0])\n",
        "W = np.identity(x_train.shape[0])\n",
        "for i in range(len(x_test)):\n",
        "  wi = weights(Xtrain, Xtest[i,:],tau)\n",
        "  Ws = np.diag(wi)\n",
        "  theta_i = thetaEquatWeights(Xtrain,y_train,Ws)\n",
        "  #thetas[i] = theta_i\n",
        "  ypre[i] = np.dot(theta_i, Xtest[i,:].T)\n",
        "\n",
        "#plot truth test_y and simulated test_y\n",
        "plt.plot(x_test, y_test_truth,'.',label ='truth')\n",
        "plt.plot(x_test.flatten(), ypre.flatten(),'*',label ='prediction')\n",
        "\n",
        "plt.show()\n",
        "\n",
        "#calculate the  least squares error\n",
        "error = costfunc(ypre[:,None], y_test_truth)\n",
        "\n",
        "print('The error of linear regression is: ', error/len(x_test))"
      ],
      "metadata": {
        "colab": {
          "base_uri": "https://localhost:8080/",
          "height": 283
        },
        "id": "heGmdqizbfrV",
        "outputId": "c2284780-56e7-447b-9074-8a16ec74793f"
      },
      "execution_count": 18,
      "outputs": [
        {
          "output_type": "display_data",
          "data": {
            "text/plain": [
              "<Figure size 432x288 with 1 Axes>"
            ],
            "image/png": "[encoded data removed]"
          },
          "metadata": {
            "needs_background": "light"
          }
        },
        {
          "output_type": "stream",
          "name": "stdout",
          "text": [
            "The error of linear regression is:  [3.14184124]\n"
          ]
        }
      ]
    },
    {
      "cell_type": "code",
      "source": [
        "#1. try tau = 0.1 and see the prediction\n",
        "#set the value of tau\n",
        "tau = 0.1\n",
        "# create vector x0 with value 1 for regression\n",
        "x0 = np.ones((len_train, 1)) \n",
        "# concatenate x0 and x_train to make the trainxing X matrix\n",
        "Xtrain = np.concatenate((x_train, x0), axis = 1)\n",
        "Xtest = np.concatenate((x_test, x0), axis = 1)\n",
        "\n",
        "thetas = np.zeros(x_train.shape[0])\n",
        "ypre = np.zeros(x_train.shape[0])\n",
        "W = np.identity(x_train.shape[0])\n",
        "for i in range(len(x_test)):\n",
        "  wi = weights(Xtrain, Xtest[i,:],tau)\n",
        "  Ws = np.diag(wi)\n",
        "  theta_i = thetaEquatWeights(Xtrain,y_train,Ws)\n",
        "  #thetas[i] = theta_i\n",
        "  ypre[i] = np.dot(theta_i, Xtest[i,:].T)\n",
        "\n",
        "#plot truth test_y and simulated test_y\n",
        "plt.plot(x_test, y_test_truth,'.',label ='truth')\n",
        "plt.plot(x_test.flatten(), ypre.flatten(),'*',label ='prediction')\n",
        "\n",
        "plt.show()\n",
        "\n",
        "#calculate the  least squares error\n",
        "error = costfunc(ypre[:,None], y_test_truth)\n",
        "\n",
        "print('The error of linear regression is: ', error/len(x_test))"
      ],
      "metadata": {
        "colab": {
          "base_uri": "https://localhost:8080/",
          "height": 283
        },
        "id": "vkebqRrB-rKD",
        "outputId": "979b6533-9428-4097-8058-7564f2a43fa9"
      },
      "execution_count": 19,
      "outputs": [
        {
          "output_type": "display_data",
          "data": {
            "text/plain": [
              "<Figure size 432x288 with 1 Axes>"
            ],
            "image/png": "[encoded data removed]"
          },
          "metadata": {
            "needs_background": "light"
          }
        },
        {
          "output_type": "stream",
          "name": "stdout",
          "text": [
            "The error of linear regression is:  [0.00916085]\n"
          ]
        }
      ]
    }
  ]
}