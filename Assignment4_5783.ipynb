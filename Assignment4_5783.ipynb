{
  "nbformat": 4,
  "nbformat_minor": 0,
  "metadata": {
    "colab": {
      "provenance": []
    },
    "kernelspec": {
      "name": "python3",
      "display_name": "Python 3"
    },
    "language_info": {
      "name": "python"
    }
  },
  "cells": [
    {
      "cell_type": "markdown",
      "source": [
        "### Read the data for the assignment"
      ],
      "metadata": {
        "id": "hs8IMZDU03t2"
      }
    },
    {
      "cell_type": "code",
      "execution_count": 1,
      "metadata": {
        "id": "s5V3nJCCGpKM",
        "colab": {
          "base_uri": "https://localhost:8080/"
        },
        "outputId": "e0118d75-595a-4ba6-c62a-e6270033d989"
      },
      "outputs": [
        {
          "output_type": "stream",
          "name": "stdout",
          "text": [
            "Mounted at /content/drive\n"
          ]
        }
      ],
      "source": [
        "# import\n",
        "import pandas as pd\n",
        "import numpy as np\n",
        "\n",
        "from google.colab import drive\n",
        "drive.mount('/content/drive')\n",
        "\n",
        "file = \"/content/drive/MyDrive/Asssignment4_Data.xlsx\"\n",
        "\n",
        "df = pd.read_excel(file, [0,1])\n",
        "\n",
        "# get the header of file\n",
        "#header = df[1].head(0)\n",
        "features = [\"Local Price\", \"Bathrooms\", \"Land Area\", \"Living area\", \"# Garages\", \"# Rooms\", \"# Bedrooms\", \"Age of home\"]\n",
        "feature_continuous = {\"Local Price\", \"Land Area\", \"Living area\",  \"Age of home\"}\n",
        "feature_category = {\"Bathrooms\", \"# Garages\", \"# Rooms\", \"# Bedrooms\"}\n",
        "\n",
        "CClass = [\"Apartment\", \"Condo\", \"House\"]"
      ]
    },
    {
      "cell_type": "code",
      "source": [
        "#get training and test data\n",
        "X_Train = np.array(df[0])[:, 1:-1]\n",
        "Y_Train = np.array(df[0])[:, -1]\n",
        "\n",
        "X_Test = np.array(df[1])[:, 1:-1]\n",
        "Y_Test = np.array(df[1])[:, -1]"
      ],
      "metadata": {
        "id": "ejt8jjBYf43E"
      },
      "execution_count": 2,
      "outputs": []
    },
    {
      "cell_type": "markdown",
      "source": [
        "## Question 1\n",
        "\n",
        "## 1. the conditional probability distribution for each feature for each class. (The detailed computation is in the report)\n",
        "\n",
        "###\tConditional probability for apartment class:\n",
        "\n",
        "mean_price_A = 7.33  \n",
        "std_price_A = 3.62\n",
        "\n",
        "mean_landarea_A = 6.1  \n",
        "std_landarea_A = 3.26\n",
        "\n",
        "mean_livingarea_A = 1.5  \n",
        "std_livingarea_A = 0.7\n",
        "\n",
        "mean_age_A = 38.71  \n",
        "std_age_A = 14.68\n",
        "\n",
        "P_bathroom_A =  {1:0.6, 1.5:0.2, 2.5:0.2}\n",
        "\n",
        "P_garage_A =  {0:2/11, 1:4/11, 1.5:2/11, 2:3/11}\n",
        "\n",
        "P_room_A =  {5:2/13, 6:3/13, 7: 3/13, 8:2/13, 9:2/13, 10:1/13}\n",
        "\n",
        "P_bedrom_A =  {2:2/11, 3:4/11, 4:3/11, 5:2/11}\n",
        "\n",
        "### Conditional probability for condo class\n",
        "\n",
        "mean_price_C = 7.42   \n",
        "std_price_C = 4.61\n",
        "\n",
        "mean_landarea_C = 6.02   \n",
        "std_landarea_C = 2.54\n",
        "\n",
        "mean_livingarea_C = 1.55   \n",
        "std_livingarea_C = 0.92\n",
        "\n",
        "mean_age_C = 39.67  \n",
        "std_age_C = 13.96\n",
        "\n",
        "P_bathroom_A =  {1:5/9, 1.5:2/9, 2.5:2/9} \n",
        "\n",
        "P_garage_A =  {0:1/10, 1:5/10, 1.5:1/10, 2:3/10} \n",
        "\n",
        "P_room_A =  {5:1/12, 6:5/12, 7: 2/12, 8:1/12, 9:1/12, 10:2/12} \n",
        "\n",
        "P_bedrom_A =  {2:1/10, 3:6/10, 4:1/10, 5:2/10}\n",
        "\n",
        "### Conditional probability for houxe class\n",
        "mean_price_A = 5.76  \n",
        "std_price_A = 0.57\n",
        "\n",
        "mean_landarea_A = 6.63  \n",
        "std_landarea_A = 2.25\n",
        "\n",
        "mean_livingarea_A = 1.39  \n",
        "std_livingarea_A = 0.21\n",
        "\n",
        "mean_age_A = 34.28  \n",
        "std_age_A = 12.7\n",
        "\n",
        "P_bathroom_A =  {1:0.7, 1.5:0.2, 2.5:0.1} \n",
        "\n",
        "P_garage_A =  {0:3/11, 1:3/11, 1.5:2/11, 2:3/11} \n",
        "\n",
        "P_room_A =  {5:2/13, 6:5/13, 7: 3/13, 8:1/13, 9:1/13, 10:1/13} \n",
        "\n",
        "P_bedrom_A =  {2:2/11, 3:6/11, 4:2/11, 5:1/11}\n",
        "\n"
      ],
      "metadata": {
        "id": "DgBBKFZBYmQq"
      }
    },
    {
      "cell_type": "code",
      "source": [
        "from math import sqrt, exp\n",
        "# function to calculate the conditional probability for continuously value\n",
        "\n",
        "def gaussProb(mean, std, x):\n",
        "  pi = 3.1415926\n",
        "  p1 = sqrt(2*pi)\n",
        "  p1 = p1*std\n",
        "  p1 = 1/p1\n",
        "\n",
        "  p2 = (x- mean)**2\n",
        "  p2 = -p2/(2*(std**2))\n",
        "\n",
        "  p = p1*exp(p2)\n",
        "\n",
        "  return p\n"
      ],
      "metadata": {
        "id": "oXjS6QJz2Bt7"
      },
      "execution_count": 3,
      "outputs": []
    },
    {
      "cell_type": "code",
      "source": [
        "# Conditional probability from Q1.1\n",
        "\n",
        "CP_Apartment ={\"Local Price\":[7.33, 3.62],\n",
        "       \"Bathrooms\":  {1:0.6, 1.5:0.2, 2.5:0.2}, \n",
        "       \"Land Area\": [6.1, 3.26],\n",
        "       \"Living area\":[1.5, 0.7],\n",
        "       \"# Garages\": {0:2/11, 1:4/11, 1.5:2/11, 2:3/11},\n",
        "       \"# Rooms\":{5:2/13, 6:3/13, 7: 3/13, 8:2/13, 9:2/13, 10:1/13},\n",
        "       \"# Bedrooms\":{2:2/11, 3:4/11, 4:3/11, 5:2/11},\n",
        "       \"Age of home\":[38.71, 14.68]\n",
        "}\n",
        "CP_Condo ={\"Local Price\":[7.42, 4.61],\n",
        "       \"Bathrooms\":  {1:5/9, 1.5:2/9, 2.5:2/9}, \n",
        "       \"Land Area\": [6.02, 2.54],\n",
        "       \"Living area\":[1.55, 0.92],\n",
        "       \"# Garages\": {0:1/10, 1:5/10, 1.5:1/10, 2:3/10},\n",
        "       \"# Rooms\":{5:1/12, 6:5/12, 7: 2/12, 8:1/12, 9:1/12, 10:2/12},\n",
        "       \"# Bedrooms\":{2:1/10, 3:6/10, 4:1/10, 5:2/10},\n",
        "       \"Age of home\":[39.67, 13.96]\n",
        "}\n",
        "CP_House ={\"Local Price\":[5.76, 0.57],\n",
        "       \"Bathrooms\":  {1:0.7, 1.5:0.2, 2.5:0.1}, \n",
        "       \"Land Area\": [6.63, 2.25],\n",
        "       \"Living area\":[1.39, 0.21],\n",
        "       \"# Garages\": {0:3/11, 1:3/11, 1.5:2/11, 2:3/11},\n",
        "       \"# Rooms\":{5:2/13, 6:5/13, 7: 3/13, 8:1/13, 9:1/13, 10:1/13},\n",
        "       \"# Bedrooms\":{2:2/11, 3:6/11, 4:2/11, 5:1/11},\n",
        "       \"Age of home\":[34.28, 12.7]\n",
        "}\n"
      ],
      "metadata": {
        "id": "AOIaDZPk3yuq"
      },
      "execution_count": 4,
      "outputs": []
    },
    {
      "cell_type": "markdown",
      "source": [
        "## 2. compute theprobabilities for each example in the test data\n",
        "I used gauss function to calculate the conditional probability for continuously value based on the mean and standard deviation from Q1.1. I Directly got the conditional probability for catrgorical features from Q1.1. Combined with prior probability of three classes, I calculate the probability of each class for each test example."
      ],
      "metadata": {
        "id": "qUu2J5_p1L_L"
      }
    },
    {
      "cell_type": "code",
      "source": [
        "# compute the probabilities for each example in the test data \n",
        "PP_A = 7/20  # the prior probability of apartment\n",
        "PP_C = 6/20\n",
        "PP_H = 7/20\n",
        "# features\n",
        "for i in range(len(X_Test)):\n",
        "\n",
        "  X_i=X_Test[i,:]\n",
        "  P_A =PP_A\n",
        "  P_C = PP_C\n",
        "  P_H =PP_H\n",
        "  for j in range(len(features)):\n",
        "\n",
        "    x = X_i[j]\n",
        "    if features[j] in feature_continuous:\n",
        "      # calculate the probability of apartment\n",
        "      mean,std = CP_Apartment[features[j]]\n",
        "      P_A = P_A * gaussProb(mean, std, x)\n",
        "      # calculate the probability of condo\n",
        "      mean,std = CP_Condo[features[j]]\n",
        "      P_C = P_C * gaussProb(mean, std, x)\n",
        "      # calculate the probability of house\n",
        "      mean,std = CP_House[features[j]]\n",
        "      P_H = P_H * gaussProb(mean, std, x)\n",
        "    else:\n",
        "      P_A = P_A * CP_Apartment[features[j]][x]\n",
        "      P_C = P_C * CP_Condo[features[j]][x]\n",
        "      P_H = P_H * CP_House[features[j]][x]\n",
        "\n",
        "  print(\"The probability for test example \", i+1, \"is an Apartment is: \" , P_A)\n",
        "  print(\"The probability for test example \", i+1, \"is an Conda is: \",  P_C)\n",
        "  print(\"The probability for test example \", i+1, \"is an House is: \" , P_H)\n",
        "\n",
        "  maxi = np.argmax([P_A,P_C, P_H ])\n",
        "\n",
        "  print(\"The construction type of test example \", i+1, \"is\", CClass[maxi])\n",
        "  print(\"\\n\")"
      ],
      "metadata": {
        "colab": {
          "base_uri": "https://localhost:8080/"
        },
        "id": "qBXg8JFuM5Qm",
        "outputId": "d8eb4081-5bd6-4f79-d583-c62a5eda716b"
      },
      "execution_count": 5,
      "outputs": [
        {
          "output_type": "stream",
          "name": "stdout",
          "text": [
            "The probability for test example  1 is an Apartment is:  3.781749397214264e-07\n",
            "The probability for test example  1 is an Conda is:  1.2271593939199522e-06\n",
            "The probability for test example  1 is an House is:  8.558861424856368e-06\n",
            "The construction type of test example  1 is House\n",
            "\n",
            "\n",
            "The probability for test example  2 is an Apartment is:  7.850369070883433e-08\n",
            "The probability for test example  2 is an Conda is:  1.0446231979324178e-08\n",
            "The probability for test example  2 is an House is:  3.253255245387382e-12\n",
            "The construction type of test example  2 is Apartment\n",
            "\n",
            "\n",
            "The probability for test example  3 is an Apartment is:  4.2865305606774e-08\n",
            "The probability for test example  3 is an Conda is:  1.9466496526783395e-08\n",
            "The probability for test example  3 is an House is:  3.522073018240227e-10\n",
            "The construction type of test example  3 is Apartment\n",
            "\n",
            "\n",
            "The probability for test example  4 is an Apartment is:  7.143082860695023e-08\n",
            "The probability for test example  4 is an Conda is:  6.017762863402768e-09\n",
            "The probability for test example  4 is an House is:  3.0503925455843607e-15\n",
            "The construction type of test example  4 is Apartment\n",
            "\n",
            "\n",
            "The probability for test example  5 is an Apartment is:  1.0522662420127894e-07\n",
            "The probability for test example  5 is an Conda is:  3.4708364749249937e-07\n",
            "The probability for test example  5 is an House is:  1.3545864648895332e-31\n",
            "The construction type of test example  5 is Condo\n",
            "\n",
            "\n"
          ]
        }
      ]
    },
    {
      "cell_type": "markdown",
      "source": [
        "## Question 2\n",
        "1. In the default decision tree, the training accuracy is 1.0 and the accuracy on the test set is 0.4.\n",
        "2. fixed maximum_depth affects both accuracy. When the maximum_depth is growing, the accuracy on the training data is getting higher until 100%, but the accuracy on the testing data is getting higher first, then getting lower. The best test accuracy is not when the best train accuracy.\n",
        "3. Because decision tree will get overfit when the depth is big. When the tree is too deep, decision tree will capture all details from the training data and lead to high variance, so the accuracy on the test data is lower.\n",
        "4.  I visualized the tree with depth of 2 as it has the best test accuracy. The root node is age of the home. The second layer's node is the local price. The given example, the age is 23 which is smaller than 36, so goes to the left lower node. The price is   9.03 which is greater than the node 8.411, so goes to the right lower leave. So the final classification for the given example is Apartment. "
      ],
      "metadata": {
        "id": "5o1ECVNfYhzz"
      }
    },
    {
      "cell_type": "code",
      "source": [
        "from sklearn.tree import DecisionTreeClassifier\n",
        "from sklearn.metrics import accuracy_score\n",
        "from sklearn.tree import plot_tree"
      ],
      "metadata": {
        "id": "Z-saO9eGYfTx"
      },
      "execution_count": 6,
      "outputs": []
    },
    {
      "cell_type": "code",
      "source": [
        "# use a default tree\n",
        "tree= DecisionTreeClassifier()\n",
        "\n",
        "# build a decision tree classifier from the training set \n",
        "tree.fit(X_Train, Y_Train)\n",
        "\n",
        "#Predict class or regression value for X.\n",
        "y_pred = tree.predict(X_Test)\n",
        "\n",
        "#Return the mean accuracy on the given test data and labels\n",
        "accuracy_train = tree.score(X_Train, Y_Train)\n",
        "\n",
        "print(\"The accuracy of training data is: \", accuracy_train)\n",
        "\n",
        "#Return the mean accuracy on the given test data and labels\n",
        "accuracy_test = tree.score(X_Test, Y_Test)\n",
        "print(\"The accuracy of test data is: \", accuracy_test)"
      ],
      "metadata": {
        "colab": {
          "base_uri": "https://localhost:8080/"
        },
        "id": "7uyyJoXXfBLa",
        "outputId": "690cc022-35af-4ff8-8c3f-fdeb6ae8e070"
      },
      "execution_count": 7,
      "outputs": [
        {
          "output_type": "stream",
          "name": "stdout",
          "text": [
            "The accuracy of training data is:  1.0\n",
            "The accuracy of test data is:  0.4\n"
          ]
        }
      ]
    },
    {
      "cell_type": "code",
      "source": [
        "# study the effect of maximum depth\n",
        "tree_depth = [1, 2, 3, 4, 5, 6, 7,8,9]\n",
        "for depth in tree_depth:\n",
        "  tree= DecisionTreeClassifier(max_depth = depth, random_state =10)\n",
        "\n",
        "  # build a decision tree classifier from the training set \n",
        "  tree.fit(X_Train, Y_Train)\n",
        "\n",
        "  #Return the mean accuracy on the given test data and labels\n",
        "  accuracy_train = tree.score(X_Train, Y_Train)\n",
        "\n",
        "  print(\"The accuracy of training data is: \", accuracy_train)\n",
        "\n",
        "  #Return the mean accuracy on the given test data and labels\n",
        "  accuracy_test = tree.score(X_Test, Y_Test)\n",
        "  print(\"The accuracy of test data is: \", accuracy_test)"
      ],
      "metadata": {
        "colab": {
          "base_uri": "https://localhost:8080/"
        },
        "id": "6t0meg3TluPm",
        "outputId": "ed834f38-8504-4d59-9510-837c8a4285c8"
      },
      "execution_count": 8,
      "outputs": [
        {
          "output_type": "stream",
          "name": "stdout",
          "text": [
            "The accuracy of training data is:  0.55\n",
            "The accuracy of test data is:  0.4\n",
            "The accuracy of training data is:  0.75\n",
            "The accuracy of test data is:  0.8\n",
            "The accuracy of training data is:  0.9\n",
            "The accuracy of test data is:  0.4\n",
            "The accuracy of training data is:  0.95\n",
            "The accuracy of test data is:  0.4\n",
            "The accuracy of training data is:  1.0\n",
            "The accuracy of test data is:  0.4\n",
            "The accuracy of training data is:  1.0\n",
            "The accuracy of test data is:  0.4\n",
            "The accuracy of training data is:  1.0\n",
            "The accuracy of test data is:  0.4\n",
            "The accuracy of training data is:  1.0\n",
            "The accuracy of test data is:  0.4\n",
            "The accuracy of training data is:  1.0\n",
            "The accuracy of test data is:  0.4\n"
          ]
        }
      ]
    },
    {
      "cell_type": "code",
      "source": [
        "# use a default tree\n",
        "tree= DecisionTreeClassifier(max_depth = 2)\n",
        "\n",
        "# build a decision tree classifier from the training set \n",
        "tree.fit(X_Train, Y_Train)\n",
        "\n",
        "plot_tree(tree)"
      ],
      "metadata": {
        "colab": {
          "base_uri": "https://localhost:8080/",
          "height": 373
        },
        "id": "yWtkCnMfl5a7",
        "outputId": "ccdb4abd-8973-4639-e084-178e4ba69543"
      },
      "execution_count": 9,
      "outputs": [
        {
          "output_type": "execute_result",
          "data": {
            "text/plain": [
              "[Text(0.5, 0.8333333333333334, 'X[7] <= 36.0\\ngini = 0.665\\nsamples = 20\\nvalue = [7, 6, 7]'),\n",
              " Text(0.25, 0.5, 'X[0] <= 8.411\\ngini = 0.56\\nsamples = 10\\nvalue = [2, 2, 6]'),\n",
              " Text(0.125, 0.16666666666666666, 'gini = 0.375\\nsamples = 8\\nvalue = [0, 2, 6]'),\n",
              " Text(0.375, 0.16666666666666666, 'gini = 0.0\\nsamples = 2\\nvalue = [2, 0, 0]'),\n",
              " Text(0.75, 0.5, 'X[2] <= 5.5\\ngini = 0.58\\nsamples = 10\\nvalue = [5, 4, 1]'),\n",
              " Text(0.625, 0.16666666666666666, 'gini = 0.531\\nsamples = 8\\nvalue = [5, 2, 1]'),\n",
              " Text(0.875, 0.16666666666666666, 'gini = 0.0\\nsamples = 2\\nvalue = [0, 2, 0]')]"
            ]
          },
          "metadata": {},
          "execution_count": 9
        },
        {
          "output_type": "display_data",
          "data": {
            "text/plain": [
              "<Figure size 432x288 with 1 Axes>"
            ],
            "image/png": "[encoded data removed]"
          },
          "metadata": {
            "needs_background": "light"
          }
        }
      ]
    },
    {
      "cell_type": "markdown",
      "source": [
        "# Question 3\n",
        "I computed the accuracy of my approach for different number of neighbors, ranging from 1 to 5, the accuracy is 0.2 for both 1 to 5 neighbors. So I further add neighbors to 10 and found that the accuracy is 0.4 when the number of neighbors ranging from 6 to 10. More neighbors can reduce variance but increase bias. So increase the number of neighbors won't increase the accuracy all the time."
      ],
      "metadata": {
        "id": "OS4q5aXrCHxt"
      }
    },
    {
      "cell_type": "code",
      "source": [
        "# function to calculate the Euclidean distance\n",
        "def EuclideanD(x1, x2):\n",
        "  return (np.sum((x1-x2)**2, 1))**(1/2)"
      ],
      "metadata": {
        "id": "L5RN4fXn1jj7"
      },
      "execution_count": 10,
      "outputs": []
    },
    {
      "cell_type": "code",
      "source": [
        "# Function to find Majority element in an array\n",
        "def majorityVote(arr):\n",
        "\n",
        "  arr = np.sort(arr)\n",
        "  maxCount = 1\n",
        "  candidate = arr[0]  # sentinels\n",
        "\n",
        "  for ele in arr:\n",
        "    count = np.count_nonzero(arr==ele)\n",
        "    if count > maxCount:\n",
        "      maxCount = count\n",
        "      candidate = ele\n",
        "  \n",
        "  return candidate\n"
      ],
      "metadata": {
        "id": "KZgiJaA96mNW"
      },
      "execution_count": 11,
      "outputs": []
    },
    {
      "cell_type": "code",
      "source": [
        "#KNN classifier \n",
        "\n",
        "kneighbour = [1,2,3,4,5,6,7,8,9,10]\n",
        "\n",
        "#store the accuracy of each K value\n",
        "accuracy = []\n",
        "\n",
        "#start for loop\n",
        "for k in kneighbour:\n",
        "  y_pred =[]\n",
        "  for X in X_Test:\n",
        "    # calculate Euclidean distance between test example and all training samples\n",
        "    euclid = EuclideanD(X, X_Train)\n",
        "    #get the index of closest K neibours \n",
        "    index_train = np.argsort(euclid)\n",
        "    choosenK = index_train[:k]\n",
        "    #get the class of closest K neibours\n",
        "    ypred_k = Y_Train[choosenK]\n",
        "\n",
        "    y_pred.append(majorityVote(ypred_k))\n",
        "\n",
        "  accuracy.append(accuracy_score(y_pred,Y_Test))\n"
      ],
      "metadata": {
        "id": "envEBVQi3uWd"
      },
      "execution_count": 12,
      "outputs": []
    },
    {
      "cell_type": "code",
      "source": [
        "# plot accuracy with number of neighbourhood\n",
        "import matplotlib.pyplot as plt\n",
        "\n",
        "plt.plot(kneighbour, accuracy, \"*\")\n",
        "plt.title(\"accuracy by the number of neighbors k\")\n",
        "plt.xlabel(\"the number of neighbors\")\n",
        "plt.ylabel(\"accuracy\")\n",
        "\n"
      ],
      "metadata": {
        "colab": {
          "base_uri": "https://localhost:8080/",
          "height": 313
        },
        "id": "chYxw16u0uwk",
        "outputId": "de31c22f-c0f3-4852-af64-e659f9726561"
      },
      "execution_count": 13,
      "outputs": [
        {
          "output_type": "execute_result",
          "data": {
            "text/plain": [
              "Text(0, 0.5, 'accuracy')"
            ]
          },
          "metadata": {},
          "execution_count": 13
        },
        {
          "output_type": "display_data",
          "data": {
            "text/plain": [
              "<Figure size 432x288 with 1 Axes>"
            ],
            "image/png": "[encoded data removed]"
          },
          "metadata": {
            "needs_background": "light"
          }
        }
      ]
    }
  ]
}